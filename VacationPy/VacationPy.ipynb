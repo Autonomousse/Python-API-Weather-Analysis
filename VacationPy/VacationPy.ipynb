{
 "cells": [
  {
   "cell_type": "markdown",
   "metadata": {},
   "source": [
    "# VacationPy\n",
    "----"
   ]
  },
  {
   "cell_type": "code",
   "execution_count": 1,
   "metadata": {},
   "outputs": [],
   "source": [
    "# Dependencies and Setup\n",
    "import matplotlib.pyplot as plt\n",
    "import pandas as pd\n",
    "import numpy as np\n",
    "import requests\n",
    "import gmaps\n",
    "import os\n",
    "import json\n",
    "\n",
    "# Import API key\n",
    "from api_keys import g_key"
   ]
  },
  {
   "cell_type": "markdown",
   "metadata": {},
   "source": [
    "### Store Part I results into DataFrame\n",
    "* Load the csv exported in Part I to a DataFrame"
   ]
  },
  {
   "cell_type": "code",
   "execution_count": 2,
   "metadata": {
    "tags": []
   },
   "outputs": [
    {
     "output_type": "execute_result",
     "data": {
      "text/plain": "       City  Latitude  Longitude  Max Temperature  Humidity  Cloudiness  \\\n0      kaka     37.35      59.61            81.05        43           0   \n1   rikitea    -23.12    -134.97            69.66        70          22   \n2  goderich     43.75     -81.72            75.00        75          69   \n3  banjaran     -7.05     107.59            70.68        79          76   \n4    juneau     58.30    -134.42            59.00        72          90   \n\n   Wind Speed Country        Date  \n0        9.93      TM  1594511988  \n1       15.37      PF  1594511815  \n2       13.27      CA  1594511896  \n3        3.24      ID  1594511989  \n4       14.99      US  1594511742  ",
      "text/html": "<div>\n<style scoped>\n    .dataframe tbody tr th:only-of-type {\n        vertical-align: middle;\n    }\n\n    .dataframe tbody tr th {\n        vertical-align: top;\n    }\n\n    .dataframe thead th {\n        text-align: right;\n    }\n</style>\n<table border=\"1\" class=\"dataframe\">\n  <thead>\n    <tr style=\"text-align: right;\">\n      <th></th>\n      <th>City</th>\n      <th>Latitude</th>\n      <th>Longitude</th>\n      <th>Max Temperature</th>\n      <th>Humidity</th>\n      <th>Cloudiness</th>\n      <th>Wind Speed</th>\n      <th>Country</th>\n      <th>Date</th>\n    </tr>\n  </thead>\n  <tbody>\n    <tr>\n      <th>0</th>\n      <td>kaka</td>\n      <td>37.35</td>\n      <td>59.61</td>\n      <td>81.05</td>\n      <td>43</td>\n      <td>0</td>\n      <td>9.93</td>\n      <td>TM</td>\n      <td>1594511988</td>\n    </tr>\n    <tr>\n      <th>1</th>\n      <td>rikitea</td>\n      <td>-23.12</td>\n      <td>-134.97</td>\n      <td>69.66</td>\n      <td>70</td>\n      <td>22</td>\n      <td>15.37</td>\n      <td>PF</td>\n      <td>1594511815</td>\n    </tr>\n    <tr>\n      <th>2</th>\n      <td>goderich</td>\n      <td>43.75</td>\n      <td>-81.72</td>\n      <td>75.00</td>\n      <td>75</td>\n      <td>69</td>\n      <td>13.27</td>\n      <td>CA</td>\n      <td>1594511896</td>\n    </tr>\n    <tr>\n      <th>3</th>\n      <td>banjaran</td>\n      <td>-7.05</td>\n      <td>107.59</td>\n      <td>70.68</td>\n      <td>79</td>\n      <td>76</td>\n      <td>3.24</td>\n      <td>ID</td>\n      <td>1594511989</td>\n    </tr>\n    <tr>\n      <th>4</th>\n      <td>juneau</td>\n      <td>58.30</td>\n      <td>-134.42</td>\n      <td>59.00</td>\n      <td>72</td>\n      <td>90</td>\n      <td>14.99</td>\n      <td>US</td>\n      <td>1594511742</td>\n    </tr>\n  </tbody>\n</table>\n</div>"
     },
     "metadata": {},
     "execution_count": 2
    }
   ],
   "source": [
    "# Load the file\n",
    "file_path = os.path.join(\"..\", \"WeatherPy\", \"Output\", \"city_data.csv\")\n",
    "\n",
    "# Create a data frame from the CSV\n",
    "city_data_df = pd.read_csv(file_path)\n",
    "\n",
    "# Display the first few rows\n",
    "city_data_df.head()"
   ]
  },
  {
   "cell_type": "markdown",
   "metadata": {},
   "source": [
    "### Humidity Heatmap\n",
    "* Configure gmaps.\n",
    "* Use the Lat and Lng as locations and Humidity as the weight.\n",
    "* Add Heatmap layer to map."
   ]
  },
  {
   "cell_type": "code",
   "execution_count": 3,
   "metadata": {},
   "outputs": [
    {
     "output_type": "display_data",
     "data": {
      "text/plain": "Figure(layout=FigureLayout(height='800px', margin='0 auto 0 auto', width='1600px'))",
      "application/vnd.jupyter.widget-view+json": {
       "version_major": 2,
       "version_minor": 0,
       "model_id": "81ced211bbdb46eb9775295962823997"
      }
     },
     "metadata": {}
    }
   ],
   "source": [
    "# Configure gmaps with API key\n",
    "gmaps.configure(api_key=g_key)\n",
    "\n",
    "# Set the figure layout with dimensions and positioning of the map\n",
    "figure_layout = {'width': '1600px', 'height': '800px', 'margin': '0 auto 0 auto'}\n",
    "\n",
    "# Create the gmaps figure with layout, set a center, set a zoom level\n",
    "humidity = gmaps.figure(layout=figure_layout, center=(36.17,5.39), zoom_level=3)\n",
    "\n",
    "# Create variables for locations (latitude and longitude) and weights (humidity)\n",
    "locations = city_data_df[[\"Latitude\", \"Longitude\"]]\n",
    "weights = city_data_df[\"Humidity\"]\n",
    "\n",
    "# Create the heatmap layer, dissipating set to false stops points from changing size on zoom\n",
    "heatmap = gmaps.heatmap_layer(locations, weights, dissipating=False, max_intensity=200, point_radius=3)\n",
    "\n",
    "# Add the layer to the figure\n",
    "humidity.add_layer(heatmap)\n",
    "\n",
    "# Display the figure with the heatmap layer\n",
    "humidity"
   ]
  },
  {
   "cell_type": "code",
   "execution_count": null,
   "metadata": {},
   "outputs": [],
   "source": []
  },
  {
   "cell_type": "markdown",
   "metadata": {},
   "source": [
    "### Create new DataFrame fitting weather criteria\n",
    "* Narrow down the cities to fit weather conditions.\n",
    "* Drop any rows will null values."
   ]
  },
  {
   "cell_type": "code",
   "execution_count": 4,
   "metadata": {},
   "outputs": [
    {
     "output_type": "execute_result",
     "data": {
      "text/plain": "           City  Latitude  Longitude  Max Temperature  Humidity  Cloudiness  \\\n220       heihe     50.24     127.49            77.00        69           0   \n265     zhangye     38.93     100.45            71.98        35           0   \n266   zavitinsk     50.12     129.45            75.47        79           0   \n291     preveza     38.95      20.75            73.40        88           0   \n299       sudak     44.85      34.97            71.29        67           0   \n356  dawlatabad     36.41      64.91            70.88        34           0   \n368        jalu     29.03      21.55            74.05        64           0   \n500    benghazi     32.12      20.07            74.66        76           0   \n501   lebedinyy     58.52     125.52            79.79        46           0   \n545     tigzirt     36.89       4.12            74.14        84           0   \n\n     Wind Speed Country        Date  \n220        4.47      CN  1594512039  \n265        6.82      CN  1594512048  \n266        3.58      RU  1594512048  \n291        5.82      GR  1594511969  \n299        9.40      UA  1594512056  \n356        1.68      AF  1594512068  \n368        9.95      LY  1594511915  \n500        9.57      LY  1594512096  \n501        5.88      RU  1594512096  \n545        7.92      DZ  1594512105  ",
      "text/html": "<div>\n<style scoped>\n    .dataframe tbody tr th:only-of-type {\n        vertical-align: middle;\n    }\n\n    .dataframe tbody tr th {\n        vertical-align: top;\n    }\n\n    .dataframe thead th {\n        text-align: right;\n    }\n</style>\n<table border=\"1\" class=\"dataframe\">\n  <thead>\n    <tr style=\"text-align: right;\">\n      <th></th>\n      <th>City</th>\n      <th>Latitude</th>\n      <th>Longitude</th>\n      <th>Max Temperature</th>\n      <th>Humidity</th>\n      <th>Cloudiness</th>\n      <th>Wind Speed</th>\n      <th>Country</th>\n      <th>Date</th>\n    </tr>\n  </thead>\n  <tbody>\n    <tr>\n      <th>220</th>\n      <td>heihe</td>\n      <td>50.24</td>\n      <td>127.49</td>\n      <td>77.00</td>\n      <td>69</td>\n      <td>0</td>\n      <td>4.47</td>\n      <td>CN</td>\n      <td>1594512039</td>\n    </tr>\n    <tr>\n      <th>265</th>\n      <td>zhangye</td>\n      <td>38.93</td>\n      <td>100.45</td>\n      <td>71.98</td>\n      <td>35</td>\n      <td>0</td>\n      <td>6.82</td>\n      <td>CN</td>\n      <td>1594512048</td>\n    </tr>\n    <tr>\n      <th>266</th>\n      <td>zavitinsk</td>\n      <td>50.12</td>\n      <td>129.45</td>\n      <td>75.47</td>\n      <td>79</td>\n      <td>0</td>\n      <td>3.58</td>\n      <td>RU</td>\n      <td>1594512048</td>\n    </tr>\n    <tr>\n      <th>291</th>\n      <td>preveza</td>\n      <td>38.95</td>\n      <td>20.75</td>\n      <td>73.40</td>\n      <td>88</td>\n      <td>0</td>\n      <td>5.82</td>\n      <td>GR</td>\n      <td>1594511969</td>\n    </tr>\n    <tr>\n      <th>299</th>\n      <td>sudak</td>\n      <td>44.85</td>\n      <td>34.97</td>\n      <td>71.29</td>\n      <td>67</td>\n      <td>0</td>\n      <td>9.40</td>\n      <td>UA</td>\n      <td>1594512056</td>\n    </tr>\n    <tr>\n      <th>356</th>\n      <td>dawlatabad</td>\n      <td>36.41</td>\n      <td>64.91</td>\n      <td>70.88</td>\n      <td>34</td>\n      <td>0</td>\n      <td>1.68</td>\n      <td>AF</td>\n      <td>1594512068</td>\n    </tr>\n    <tr>\n      <th>368</th>\n      <td>jalu</td>\n      <td>29.03</td>\n      <td>21.55</td>\n      <td>74.05</td>\n      <td>64</td>\n      <td>0</td>\n      <td>9.95</td>\n      <td>LY</td>\n      <td>1594511915</td>\n    </tr>\n    <tr>\n      <th>500</th>\n      <td>benghazi</td>\n      <td>32.12</td>\n      <td>20.07</td>\n      <td>74.66</td>\n      <td>76</td>\n      <td>0</td>\n      <td>9.57</td>\n      <td>LY</td>\n      <td>1594512096</td>\n    </tr>\n    <tr>\n      <th>501</th>\n      <td>lebedinyy</td>\n      <td>58.52</td>\n      <td>125.52</td>\n      <td>79.79</td>\n      <td>46</td>\n      <td>0</td>\n      <td>5.88</td>\n      <td>RU</td>\n      <td>1594512096</td>\n    </tr>\n    <tr>\n      <th>545</th>\n      <td>tigzirt</td>\n      <td>36.89</td>\n      <td>4.12</td>\n      <td>74.14</td>\n      <td>84</td>\n      <td>0</td>\n      <td>7.92</td>\n      <td>DZ</td>\n      <td>1594512105</td>\n    </tr>\n  </tbody>\n</table>\n</div>"
     },
     "metadata": {},
     "execution_count": 4
    }
   ],
   "source": [
    "# Narrow down the data set to cities that meet the criteria we are searching for\n",
    "vacation_df = city_data_df.loc[(city_data_df[\"Max Temperature\"] > 70) & \n",
    "                               (city_data_df[\"Max Temperature\"] < 80) & \n",
    "                               (city_data_df[\"Wind Speed\"] < 10) & \n",
    "                               (city_data_df[\"Cloudiness\"] == 0)]\n",
    "vacation_df"
   ]
  },
  {
   "cell_type": "markdown",
   "metadata": {},
   "source": [
    "### Hotel Map\n",
    "* Store into variable named `hotel_df`.\n",
    "* Add a \"Hotel Name\" column to the DataFrame.\n",
    "* Set parameters to search for hotels with 5000 meters.\n",
    "* Hit the Google Places API for each city's coordinates.\n",
    "* Store the first Hotel result into the DataFrame.\n",
    "* Plot markers on top of the heatmap."
   ]
  },
  {
   "cell_type": "code",
   "execution_count": 5,
   "metadata": {
    "tags": []
   },
   "outputs": [
    {
     "output_type": "stream",
     "name": "stdout",
     "text": "Starting search for nearby Hotels:\n\nHotel for destination 1 found!\nHotel for destination 2 found!\nHotel for destination 3 found!\nHotel for destination 4 found!\nHotel for destination 5 found!\nHotel for destination 6 not found... skipping.\nHotel for destination 7 found!\nHotel for destination 8 found!\nHotel for destination 9 not found... skipping.\nHotel for destination 10 found!\n\nSearch complete!\n"
    }
   ],
   "source": [
    "# Store the vacation data frame with narrowed down data in hotel_df\n",
    "hotel_df = vacation_df\n",
    "\n",
    "# Create a new column called Hotel Name\n",
    "hotel_df[\"Hotel Name\"] = \"\"\n",
    "\n",
    "# Set the parameters to search for\n",
    "params = {\"radius\": 5000,\n",
    "          \"keyword\": \"hotel\",\n",
    "          \"key\": g_key}\n",
    "\n",
    "# Print a starting message\n",
    "print(\"Starting search for nearby Hotels:\\n\")\n",
    "\n",
    "# Set counter to 1 to offset the index\n",
    "counter = 1\n",
    "\n",
    "# Use a loop to run through the lat and long to identify nearby hotels\n",
    "for index, row in hotel_df.iterrows():\n",
    "    \n",
    "    # Retrieve lat and long from data frame\n",
    "    lat = row[\"Latitude\"]\n",
    "    lng = row[\"Longitude\"]\n",
    "\n",
    "    # This will change the location to the next city but leave the other parameters the same\n",
    "    params[\"location\"] = f\"{lat},{lng}\"\n",
    "\n",
    "    # Store the base URL\n",
    "    base_url = \"https://maps.googleapis.com/maps/api/place/nearbysearch/json\"\n",
    "\n",
    "    # Make the request and convert to a json object\n",
    "    hotel_location = requests.get(base_url, params=params).json()\n",
    "\n",
    "    # Since there may be missing data, try and except to skip any missing data points\n",
    "    try:\n",
    "        # Add the hotel name if found to the Hotel Name column\n",
    "        hotel_df.loc[index, \"Hotel Name\"] = hotel_location[\"results\"][0][\"name\"]\n",
    "\n",
    "        # Print message saying that hotel was found for destination number\n",
    "        print(f\"Hotel for destination {counter} found!\")\n",
    "\n",
    "    except (KeyError, IndexError):\n",
    "        print(f\"Hotel for destination {counter} not found... skipping.\")\n",
    "\n",
    "    # Increase counter for next iteration\n",
    "    counter += 1\n",
    "\n",
    "# Print ending message\n",
    "print(\"\\nSearch complete!\")"
   ]
  },
  {
   "cell_type": "code",
   "execution_count": 6,
   "metadata": {},
   "outputs": [
    {
     "output_type": "execute_result",
     "data": {
      "text/plain": "           City  Latitude  Longitude  Max Temperature  Humidity  Cloudiness  \\\n220       heihe     50.24     127.49            77.00        69           0   \n265     zhangye     38.93     100.45            71.98        35           0   \n266   zavitinsk     50.12     129.45            75.47        79           0   \n291     preveza     38.95      20.75            73.40        88           0   \n299       sudak     44.85      34.97            71.29        67           0   \n356  dawlatabad     36.41      64.91            70.88        34           0   \n368        jalu     29.03      21.55            74.05        64           0   \n500    benghazi     32.12      20.07            74.66        76           0   \n501   lebedinyy     58.52     125.52            79.79        46           0   \n545     tigzirt     36.89       4.12            74.14        84           0   \n\n     Wind Speed Country        Date                   Hotel Name  \n220        4.47      CN  1594512039      Mercure Blagoveshchensk  \n265        6.82      CN  1594512048  Holiday Inn Express Zhangye  \n266        3.58      RU  1594512048                        Lyuks  \n291        5.82      GR  1594511969         daLUZ Boutique Hotel  \n299        9.40      UA  1594512056         Soldayya Grand Hotel  \n356        1.68      AF  1594512068                               \n368        9.95      LY  1594511915                   Jalu Hotel  \n500        9.57      LY  1594512096             Al-Fadheel Hotel  \n501        5.88      RU  1594512096                               \n545        7.92      DZ  1594512105                Hôtel Mizrana  ",
      "text/html": "<div>\n<style scoped>\n    .dataframe tbody tr th:only-of-type {\n        vertical-align: middle;\n    }\n\n    .dataframe tbody tr th {\n        vertical-align: top;\n    }\n\n    .dataframe thead th {\n        text-align: right;\n    }\n</style>\n<table border=\"1\" class=\"dataframe\">\n  <thead>\n    <tr style=\"text-align: right;\">\n      <th></th>\n      <th>City</th>\n      <th>Latitude</th>\n      <th>Longitude</th>\n      <th>Max Temperature</th>\n      <th>Humidity</th>\n      <th>Cloudiness</th>\n      <th>Wind Speed</th>\n      <th>Country</th>\n      <th>Date</th>\n      <th>Hotel Name</th>\n    </tr>\n  </thead>\n  <tbody>\n    <tr>\n      <th>220</th>\n      <td>heihe</td>\n      <td>50.24</td>\n      <td>127.49</td>\n      <td>77.00</td>\n      <td>69</td>\n      <td>0</td>\n      <td>4.47</td>\n      <td>CN</td>\n      <td>1594512039</td>\n      <td>Mercure Blagoveshchensk</td>\n    </tr>\n    <tr>\n      <th>265</th>\n      <td>zhangye</td>\n      <td>38.93</td>\n      <td>100.45</td>\n      <td>71.98</td>\n      <td>35</td>\n      <td>0</td>\n      <td>6.82</td>\n      <td>CN</td>\n      <td>1594512048</td>\n      <td>Holiday Inn Express Zhangye</td>\n    </tr>\n    <tr>\n      <th>266</th>\n      <td>zavitinsk</td>\n      <td>50.12</td>\n      <td>129.45</td>\n      <td>75.47</td>\n      <td>79</td>\n      <td>0</td>\n      <td>3.58</td>\n      <td>RU</td>\n      <td>1594512048</td>\n      <td>Lyuks</td>\n    </tr>\n    <tr>\n      <th>291</th>\n      <td>preveza</td>\n      <td>38.95</td>\n      <td>20.75</td>\n      <td>73.40</td>\n      <td>88</td>\n      <td>0</td>\n      <td>5.82</td>\n      <td>GR</td>\n      <td>1594511969</td>\n      <td>daLUZ Boutique Hotel</td>\n    </tr>\n    <tr>\n      <th>299</th>\n      <td>sudak</td>\n      <td>44.85</td>\n      <td>34.97</td>\n      <td>71.29</td>\n      <td>67</td>\n      <td>0</td>\n      <td>9.40</td>\n      <td>UA</td>\n      <td>1594512056</td>\n      <td>Soldayya Grand Hotel</td>\n    </tr>\n    <tr>\n      <th>356</th>\n      <td>dawlatabad</td>\n      <td>36.41</td>\n      <td>64.91</td>\n      <td>70.88</td>\n      <td>34</td>\n      <td>0</td>\n      <td>1.68</td>\n      <td>AF</td>\n      <td>1594512068</td>\n      <td></td>\n    </tr>\n    <tr>\n      <th>368</th>\n      <td>jalu</td>\n      <td>29.03</td>\n      <td>21.55</td>\n      <td>74.05</td>\n      <td>64</td>\n      <td>0</td>\n      <td>9.95</td>\n      <td>LY</td>\n      <td>1594511915</td>\n      <td>Jalu Hotel</td>\n    </tr>\n    <tr>\n      <th>500</th>\n      <td>benghazi</td>\n      <td>32.12</td>\n      <td>20.07</td>\n      <td>74.66</td>\n      <td>76</td>\n      <td>0</td>\n      <td>9.57</td>\n      <td>LY</td>\n      <td>1594512096</td>\n      <td>Al-Fadheel Hotel</td>\n    </tr>\n    <tr>\n      <th>501</th>\n      <td>lebedinyy</td>\n      <td>58.52</td>\n      <td>125.52</td>\n      <td>79.79</td>\n      <td>46</td>\n      <td>0</td>\n      <td>5.88</td>\n      <td>RU</td>\n      <td>1594512096</td>\n      <td></td>\n    </tr>\n    <tr>\n      <th>545</th>\n      <td>tigzirt</td>\n      <td>36.89</td>\n      <td>4.12</td>\n      <td>74.14</td>\n      <td>84</td>\n      <td>0</td>\n      <td>7.92</td>\n      <td>DZ</td>\n      <td>1594512105</td>\n      <td>Hôtel Mizrana</td>\n    </tr>\n  </tbody>\n</table>\n</div>"
     },
     "metadata": {},
     "execution_count": 6
    }
   ],
   "source": [
    "hotel_df"
   ]
  },
  {
   "cell_type": "code",
   "execution_count": 7,
   "metadata": {},
   "outputs": [],
   "source": [
    "# NOTE: Do not change any of the code in this cell\n",
    "\n",
    "# Using the template add the hotel marks to the heatmap\n",
    "info_box_template = \"\"\"\n",
    "<dl>\n",
    "<dt><b>Name:</b></dt><p>{Hotel Name}</p>\n",
    "<dt><b>City:</b></dt><p>{City}</p>\n",
    "<dt><b>Country:</b></dt><p>{Country}</p>\n",
    "</dl>\n",
    "\"\"\"\n",
    "# Store the DataFrame Row\n",
    "# NOTE: be sure to update with your DataFrame name\n",
    "hotel_info = [info_box_template.format(**row) for index, row in hotel_df.iterrows()]\n",
    "locations = hotel_df[[\"Latitude\", \"Longitude\"]]"
   ]
  },
  {
   "cell_type": "code",
   "execution_count": 8,
   "metadata": {},
   "outputs": [
    {
     "output_type": "display_data",
     "data": {
      "text/plain": "Figure(layout=FigureLayout(height='800px', margin='0 auto 0 auto', width='1600px'))",
      "application/vnd.jupyter.widget-view+json": {
       "version_major": 2,
       "version_minor": 0,
       "model_id": "81ced211bbdb46eb9775295962823997"
      }
     },
     "metadata": {}
    }
   ],
   "source": [
    "# Add marker layer ontop of heat map\n",
    "hotels = gmaps.marker_layer(locations, info_box_content=hotel_info)\n",
    "humidity.add_layer(hotels)\n",
    "\n",
    "# Display figure\n",
    "humidity"
   ]
  },
  {
   "cell_type": "code",
   "execution_count": null,
   "metadata": {},
   "outputs": [],
   "source": []
  }
 ],
 "metadata": {
  "kernelspec": {
   "display_name": "Python 3.6.10 64-bit ('PythonData': conda)",
   "language": "python",
   "name": "python_defaultSpec_1600153030631"
  },
  "language_info": {
   "codemirror_mode": {
    "name": "ipython",
    "version": 3
   },
   "file_extension": ".py",
   "mimetype": "text/x-python",
   "name": "python",
   "nbconvert_exporter": "python",
   "pygments_lexer": "ipython3",
   "version": "3.6.10-final"
  },
  "latex_envs": {
   "LaTeX_envs_menu_present": true,
   "autoclose": false,
   "autocomplete": true,
   "bibliofile": "biblio.bib",
   "cite_by": "apalike",
   "current_citInitial": 1,
   "eqLabelWithNumbers": true,
   "eqNumInitial": 1,
   "hotkeys": {
    "equation": "Ctrl-E",
    "itemize": "Ctrl-I"
   },
   "labels_anchors": false,
   "latex_user_defs": false,
   "report_style_numbering": false,
   "user_envs_cfg": false
  }
 },
 "nbformat": 4,
 "nbformat_minor": 2
}